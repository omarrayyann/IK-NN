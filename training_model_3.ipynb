{
  "cells": [
    {
      "cell_type": "code",
      "execution_count": 1,
      "source": [
        "import torch\n",
        "import torch.nn as nn\n",
        "import matplotlib.pyplot as plt\n",
        "import numpy as np\n",
        "import os\n",
        "from torch.utils.data import Dataset, DataLoader\n",
        "from sklearn.model_selection import train_test_split\n",
        "from torch.autograd import Variable\n",
        "from math import pi\n",
        "import random\n",
        "import numpy as np\n",
        "from math import cos, sin, tan, atan"
      ],
      "outputs": [],
      "metadata": {
        "id": "TTvPtGgBepel"
      }
    },
    {
      "cell_type": "markdown",
      "source": [
        "# Means of Modeling Manipulators\n",
        "\n",
        "To start, the classes \"Manipulator\" and \"Link\" were created that allows the representation of the specifications of manipulators. These classes will be used later on to generate the data required for the manipulators we will train our models to compute the inverse kinematics for. For an instance of this class to be instantiated, the Denavit-Hartenberg (DH) parameters of the manipulator's links will have to be provided. This allows for the forward kinemtics to be computed in order to find the position of the end effector, given the link's angles."
      ],
      "metadata": {
        "id": "4QcLrqbR_neE"
      }
    },
    {
      "cell_type": "code",
      "execution_count": 2,
      "source": [
        "class Link():\n",
        "    def __init__(self,theta_offset,d,alpha,a):\n",
        "        self.theta_offset = theta_offset\n",
        "        self.d = d\n",
        "        self.alpha = alpha\n",
        "        self.a = a\n",
        "    def get_transformation(self, theta):\n",
        "        theta = theta+self.theta_offset\n",
        "        transformation_matrix = np.array([\n",
        "            [cos(theta), -sin(theta) * cos(self.alpha), sin(theta) * sin(self.alpha), self.a * cos(theta)],\n",
        "            [sin(theta), cos(theta) * cos(self.alpha), -cos(theta) * sin(self.alpha), self.a * sin(theta)],\n",
        "            [0, sin(self.alpha), cos(self.alpha), self.d],\n",
        "            [0, 0, 0, 1]\n",
        "        ])\n",
        "        return transformation_matrix\n",
        "\n",
        "class Manipulator:\n",
        "    def __init__(self, links=None, q=None):\n",
        "        self.links = links if links else []\n",
        "        self.q = q if q else []\n",
        "\n",
        "    def add_link(self, link):\n",
        "        self.links.append(link)\n",
        "\n",
        "    def forward_kinematics(self, joint_angles):\n",
        "        transformation_matrix = np.identity(4)\n",
        "        pos = []\n",
        "        for i in range(len(self.links)):\n",
        "            transformation_matrix = np.dot(transformation_matrix, self.links[i].get_transformation(joint_angles[i]))\n",
        "            pos.append([transformation_matrix[0][3],transformation_matrix[1][3]])\n",
        "        return transformation_matrix"
      ],
      "outputs": [],
      "metadata": {
        "id": "dbTewFCp_neG"
      }
    },
    {
      "cell_type": "markdown",
      "source": [
        "# Two-Joints Manipulator Continous Path\n",
        "\n",
        "In the second iteration, the aim is to design a neural network capable of determining the **joint angles necessary** for the manipulator to reach a desired end-effector position. This neural network will take as inputs both the desired **end-effector position** as well as the **current joint angles** of the manipulator. The output will be the set of joint angles required to achieve the specified end-effector position.\n",
        "\n",
        "**Input:**\n",
        "- eef_x: x component of the end-effector's position (float)\n",
        "- eef_y: y component of the end-effector's position (float)\n",
        "- q1_current: current theta_1 angle (float)\n",
        "- q2_current: current theta_2 angle (float)\n",
        "\n",
        "**Output:**\n",
        "- q1_next: next theta_1 angle required to achieve (eef_x,eef_y) position (float)\n",
        "- q2_next: next theta_2 angle required to achieve (eef_x,eef_y) position (float)"
      ],
      "metadata": {
        "id": "YkfUppIL_neG"
      }
    },
    {
      "cell_type": "markdown",
      "source": [
        "**Initiating a 2-Joints Manipulator**\n",
        "\n",
        "The class \"Manipulator\" created was then used to create an instant of a 2 joints model. A sketch of the first manipulator considered can be seen below along with it's DH parameters required to set it up.\n",
        "\n",
        "<img height=\"300px\"  style=\"padding:20px\" src=\"https://github.com/omarrayyann/IK-NN/blob/master/Images/two_joints_manip.jpg?raw=1\">\n",
        "<img height=\"300px\"  style=\"padding:20px\" src=\"https://github.com/omarrayyann/IK-NN/blob/master/Images/dh_table.jpg?raw=1\">\n",
        "\n"
      ],
      "metadata": {
        "id": "X1dpkqBM_neH"
      }
    },
    {
      "cell_type": "code",
      "execution_count": 3,
      "source": [
        "link1 = Link(theta_offset=0, d=0, alpha=0, a=5)\n",
        "link2 = Link(theta_offset=0, d=0, alpha=0, a=5)\n",
        "link3 = Link(theta_offset=0, d=0, alpha=0, a=5)\n",
        "\n",
        "manip = Manipulator()\n",
        "manip.add_link(link1)\n",
        "manip.add_link(link2)\n",
        "manip.add_link(link3)"
      ],
      "outputs": [],
      "metadata": {
        "id": "-xA_rXbB_neH"
      }
    },
    {
      "cell_type": "code",
      "execution_count": 88,
      "source": [
        "end_effector_positions = manip.forward_kinematics([pi/2,0,0])\n",
        "x = end_effector_positions[0][3]\n",
        "y = end_effector_positions[1][3]\n",
        "print(x)\n",
        "print(y)"
      ],
      "outputs": [
        {
          "output_type": "stream",
          "name": "stdout",
          "text": [
            "9.18485099360515e-16\n",
            "15.0\n"
          ]
        }
      ],
      "metadata": {
        "id": "xpuOQ1Bgi-m4",
        "outputId": "58df3691-bdbf-4072-c8f6-d69fa2e5d13c",
        "colab": {
          "base_uri": "https://localhost:8080/"
        }
      }
    },
    {
      "cell_type": "markdown",
      "source": [
        "**Data Generation Specifications (exporting data):**\n",
        "\n",
        "- Range of q1_next: from 0 to 2pi\n",
        "- Range of q2_next: from 0 to 2pi\n",
        "- Step Size for both q1_next and q2_next: 0.01\n",
        "\n",
        "- q1_current and q2_current will be set to 20 random angles +/- a maximum of 0.005 from q1_next and q2_next respectively"
      ],
      "metadata": {
        "id": "STq1zUum_neI"
      }
    },
    {
      "cell_type": "markdown",
      "source": [
        "(Note: Can skip this block if file \"two_joints_with_nearby_data.txt\" already in directory)"
      ],
      "metadata": {
        "id": "o_qgDf7t_neI"
      }
    },
    {
      "cell_type": "code",
      "execution_count": 77,
      "source": [
        "q1_next_from = 0\n",
        "q1_next_to = 2*pi\n",
        "q1_next_step_size = 0.1\n",
        "\n",
        "q2_next_from = 0\n",
        "q2_next_to = 2*pi\n",
        "q2_next_step_size = 0.1\n",
        "\n",
        "q3_next_from = 0\n",
        "q3_next_to = 2*pi\n",
        "q3_next_step_size = 0.1\n",
        "\n",
        "total_iterations = ((q1_next_to - q1_next_from) / q1_next_step_size + 1) * ((q2_next_to - q2_next_from) / q2_next_step_size + 1) * ((q3_next_to - q3_next_from) / q3_next_step_size + 1)\n",
        "progress_interval = total_iterations // 20\n",
        "\n",
        "with open('three_joints_with_nearby_data.txt', 'w') as file:\n",
        "    q1_next = q1_next_from\n",
        "    iterations = 0\n",
        "    while q1_next <= q1_next_to:\n",
        "        q2_next = q2_next_from\n",
        "        while q2_next <= q2_next_to:\n",
        "            q3_next = q3_next_from\n",
        "            while q3_next <= q3_next_to:\n",
        "                end_effector_positions = manip.forward_kinematics([q1_next,q2_next,q3_next])\n",
        "                x = end_effector_positions[0][3]\n",
        "                y = end_effector_positions[1][3]\n",
        "                for i in range(40):\n",
        "                    ran = random.uniform(-0.05, 0.05)\n",
        "                    q1_current = q1_next + ran\n",
        "                    ran = random.uniform(-0.05, 0.05)\n",
        "                    q2_current = q2_next + ran\n",
        "                    ran = random.uniform(-0.05, 0.05)\n",
        "                    q3_current = q3_next + ran\n",
        "                    file.write(f\"{x} {y} {q1_current} {q2_current} {q3_current} {q1_next} {q2_next} {q3_next} \\n\")\n",
        "                iterations += 1\n",
        "                if iterations % progress_interval == 0:\n",
        "                    progress_percent = (iterations / total_iterations) * 100\n",
        "                    print(f\"Progress: {progress_percent:.2f}%\")\n",
        "                q3_next = q3_next + q3_next_step_size\n",
        "            q2_next = q2_next + q2_next_step_size\n",
        "        q1_next = q1_next + q1_next_step_size\n",
        "print(f\"Progress: 100.00%\")"
      ],
      "outputs": [
        {
          "output_type": "stream",
          "name": "stdout",
          "text": [
            "Progress: 5.00%\n",
            "Progress: 10.00%\n",
            "Progress: 15.00%\n",
            "Progress: 20.00%\n",
            "Progress: 25.00%\n",
            "Progress: 30.00%\n",
            "Progress: 35.00%\n",
            "Progress: 40.00%\n",
            "Progress: 45.00%\n",
            "Progress: 50.00%\n",
            "Progress: 55.00%\n",
            "Progress: 60.00%\n",
            "Progress: 65.00%\n",
            "Progress: 70.00%\n",
            "Progress: 75.00%\n",
            "Progress: 80.00%\n",
            "Progress: 85.00%\n",
            "Progress: 90.00%\n",
            "Progress: 95.00%\n",
            "Progress: 100.00%\n"
          ]
        }
      ],
      "metadata": {
        "colab": {
          "base_uri": "https://localhost:8080/"
        },
        "id": "L93-rNIA_neI",
        "outputId": "e7432933-5c49-4794-eb5f-9a13b26f5db3"
      }
    },
    {
      "cell_type": "markdown",
      "source": [
        "**Getting Data (importing data):**\n",
        "\n",
        "Storing the inputs (eef_x,eef_y,q1_current,q2_current) and outputs (q1_next,q2_next) in the required format"
      ],
      "metadata": {
        "id": "w80ovWtr_neI"
      }
    },
    {
      "cell_type": "code",
      "execution_count": 78,
      "source": [
        "eef_x = []\n",
        "eef_y = []\n",
        "q1_current = []\n",
        "q2_current = []\n",
        "q3_current = []\n",
        "\n",
        "q1_next = []\n",
        "q2_next = []\n",
        "q3_next = []\n",
        "\n",
        "with open('three_joints_with_nearby_data.txt', 'r') as file:\n",
        "    lines = file.readlines()\n",
        "    for line in lines:\n",
        "        data = line.split()\n",
        "        eef_x.append(float(data[0]))\n",
        "        eef_y.append(float(data[1]))\n",
        "        q1_current.append(float(data[2]))\n",
        "        q2_current.append(float(data[3]))\n",
        "        q3_current.append(float(data[4]))\n",
        "        q1_next.append(float(data[5]))\n",
        "        q2_next.append(float(data[6]))\n",
        "        q3_next.append(float(data[7]))\n",
        "\n",
        "eef_x = np.array(eef_x)\n",
        "eef_y = np.array(eef_y)\n",
        "q1_current = np.array(q1_current)\n",
        "q2_current = np.array(q2_current)\n",
        "q3_current = np.array(q3_current)\n",
        "\n",
        "q1_next = np.array(q1_next)\n",
        "q2_next = np.array(q2_next)\n",
        "q3_next = np.array(q3_next)\n",
        "\n",
        "print(\"eef_x Shape: \", eef_x.shape)\n",
        "print(\"eef_y Shape: \", eef_y.shape)\n",
        "print(\"q1_current Shape: \", q1_current.shape)\n",
        "print(\"q2_current Shape: \", q2_current.shape)\n",
        "print(\"q3_current Shape: \", q3_current.shape)\n",
        "\n",
        "print(\"q1_next Shape: \", q1_next.shape)\n",
        "print(\"q2_next Shape: \", q2_next.shape)\n",
        "print(\"q3_next Shape: \", q3_next.shape)"
      ],
      "outputs": [
        {
          "output_type": "stream",
          "name": "stdout",
          "text": [
            "eef_x Shape:  (10001880,)\n",
            "eef_y Shape:  (10001880,)\n",
            "q1_current Shape:  (10001880,)\n",
            "q2_current Shape:  (10001880,)\n",
            "q3_current Shape:  (10001880,)\n",
            "q1_next Shape:  (10001880,)\n",
            "q2_next Shape:  (10001880,)\n",
            "q3_next Shape:  (10001880,)\n"
          ]
        }
      ],
      "metadata": {
        "colab": {
          "base_uri": "https://localhost:8080/"
        },
        "id": "XE1V4GWw_neJ",
        "outputId": "7cf314a8-6e38-4a5d-f953-60d640521da7"
      }
    },
    {
      "cell_type": "code",
      "execution_count": 79,
      "source": [
        "# Create a scatter plot\n",
        "plt.scatter(q1_current, q2_current, color=\"r\")\n",
        "plt.scatter(q1_next, q2_next, color=\"b\")\n",
        "\n",
        "# Set labels and title\n",
        "plt.xlabel('X-axis')\n",
        "plt.ylabel('Y-axis')\n",
        "plt.title('Scatter Plot')\n",
        "\n",
        "# Show the plot\n",
        "plt.show()"
      ],
      "outputs": [
        {
          "output_type": "display_data",
          "data": {
            "text/plain": [
              "<Figure size 640x480 with 1 Axes>"
            ],
            "image/png": "[encoded data removed]"
          },
          "metadata": {}
        }
      ],
      "metadata": {
        "id": "k9Z0PJBbi-m5",
        "outputId": "a2eb2b39-54ce-40ea-d3f2-5a7ff546a1e4",
        "colab": {
          "base_uri": "https://localhost:8080/",
          "height": 472
        }
      }
    },
    {
      "cell_type": "code",
      "execution_count": 80,
      "source": [
        "# Create a scatter plot\n",
        "plt.scatter(eef_x, eef_y, color=\"r\")\n",
        "\n",
        "# Set labels and title\n",
        "plt.xlabel('X-axis')\n",
        "plt.ylabel('Y-axis')\n",
        "plt.title('Scatter Plot')\n",
        "\n",
        "# Show the plot\n",
        "plt.show()"
      ],
      "outputs": [
        {
          "output_type": "display_data",
          "data": {
            "text/plain": [
              "<Figure size 640x480 with 1 Axes>"
            ],
            "image/png": "[encoded data removed]"
          },
          "metadata": {}
        }
      ],
      "metadata": {
        "colab": {
          "base_uri": "https://localhost:8080/",
          "height": 472
        },
        "id": "V_WNKETBMJR8",
        "outputId": "e43721e3-cd90-4d21-bf6d-d49d0e31d113"
      }
    },
    {
      "cell_type": "markdown",
      "source": [
        "**0. Necessary Setup**"
      ],
      "metadata": {
        "id": "jddIeJV4gq3-"
      }
    },
    {
      "cell_type": "code",
      "execution_count": 81,
      "source": [
        "# Using cuda GPU\n",
        "device = torch.device(\"cuda:0\" if torch.cuda.is_available() else \"cpu\")"
      ],
      "outputs": [],
      "metadata": {
        "id": "uzDGfun2gqWK"
      }
    },
    {
      "cell_type": "code",
      "execution_count": 82,
      "source": [
        "class PosesDataset(Dataset):\n",
        "    def __init__(self, eef_x, eef_y, q1_current, q2_current,q3_current, q1_next, q2_next,q3_next):\n",
        "        self.eef_x = torch.tensor(eef_x, dtype=torch.float32)\n",
        "        self.eef_y = torch.tensor(eef_y, dtype=torch.float32)\n",
        "        self.q1_current = torch.tensor(q1_current, dtype=torch.float32)\n",
        "        self.q2_current = torch.tensor(q2_current, dtype=torch.float32)\n",
        "        self.q3_current = torch.tensor(q3_current, dtype=torch.float32)\n",
        "        self.q1_next = torch.tensor(q1_next, dtype=torch.float32)\n",
        "        self.q2_next = torch.tensor(q2_next, dtype=torch.float32)\n",
        "        self.q3_next = torch.tensor(q3_next, dtype=torch.float32)\n",
        "\n",
        "\n",
        "    def __len__(self):\n",
        "        return len(self.eef_x)\n",
        "\n",
        "    def __getitem__(self, idx):\n",
        "        return (\n",
        "            self.eef_x[idx],\n",
        "            self.eef_y[idx],\n",
        "            self.q1_current[idx],\n",
        "            self.q2_current[idx],\n",
        "            self.q3_current[idx],\n",
        "            self.q1_next[idx],\n",
        "            self.q2_next[idx],\n",
        "            self.q3_next[idx]\n",
        "        )"
      ],
      "outputs": [],
      "metadata": {
        "id": "wzM20ij72iTZ"
      }
    },
    {
      "cell_type": "code",
      "execution_count": 83,
      "source": [
        "# Initialize dataset\n",
        "dataset = PosesDataset(eef_x, eef_y, q1_current, q2_current,q3_current, q1_next, q2_next,q3_next)\n",
        "\n",
        "# Define train/validation split (if needed)\n",
        "train_size = int(0.96 * len(dataset))\n",
        "test_size = len(dataset) - train_size\n",
        "train_dataset, test_dataset = torch.utils.data.random_split(dataset, [train_size, test_size])\n",
        "\n",
        "# Initialize data loaders\n",
        "batch_size = 64\n",
        "train_loader = DataLoader(train_dataset, batch_size=batch_size, shuffle=True)\n",
        "test_loader = DataLoader(test_dataset, batch_size=batch_size, shuffle=True)\n",
        "# print(test_size)\n",
        "# print(train_size)"
      ],
      "outputs": [],
      "metadata": {
        "id": "7OLIW_tQ_neK"
      }
    },
    {
      "cell_type": "code",
      "execution_count": 84,
      "source": [
        "class IKModel(nn.Module):\n",
        "    def __init__(self):\n",
        "        super(IKModel, self).__init__()\n",
        "        # Define your model architecture\n",
        "        # Example:\n",
        "        self.fc = nn.Sequential(\n",
        "            nn.Linear(5, 128),\n",
        "            nn.Sigmoid(),\n",
        "            nn.Linear(128, 64),\n",
        "            nn.Sigmoid(),\n",
        "            nn.Linear(64, 32),\n",
        "            nn.Sigmoid(),\n",
        "            nn.Linear(32, 16),\n",
        "            nn.Sigmoid(),\n",
        "            nn.Linear(16, 8),\n",
        "            nn.Sigmoid(),\n",
        "            nn.Linear(8, 3)  # Output layer for q1_next, q2_next\n",
        "        )\n",
        "\n",
        "    def forward(self, x):\n",
        "\n",
        "\n",
        "        # Concatenate the original features with cosine and sine terms\n",
        "        # x = torch.cat((x, cos_q1, sin_q1, cos_q2, sin_q2), dim=1)  # Concatenate along the feature dimension\n",
        "        # Forward pass through the model\n",
        "        output = self.fc(x)\n",
        "        return output\n"
      ],
      "outputs": [],
      "metadata": {
        "id": "Tqq4iE9Xut3o"
      }
    },
    {
      "cell_type": "code",
      "execution_count": 85,
      "source": [
        "model = IKModel().to(device)\n",
        "criterion = nn.MSELoss()\n",
        "optimizer = torch.optim.Adam(model.parameters(), lr=0.01)\n",
        "Loss = nn.MSELoss()\n",
        "print(model)"
      ],
      "outputs": [
        {
          "output_type": "stream",
          "name": "stdout",
          "text": [
            "IKModel(\n",
            "  (fc): Sequential(\n",
            "    (0): Linear(in_features=5, out_features=128, bias=True)\n",
            "    (1): Sigmoid()\n",
            "    (2): Linear(in_features=128, out_features=64, bias=True)\n",
            "    (3): Sigmoid()\n",
            "    (4): Linear(in_features=64, out_features=32, bias=True)\n",
            "    (5): Sigmoid()\n",
            "    (6): Linear(in_features=32, out_features=16, bias=True)\n",
            "    (7): Sigmoid()\n",
            "    (8): Linear(in_features=16, out_features=8, bias=True)\n",
            "    (9): Sigmoid()\n",
            "    (10): Linear(in_features=8, out_features=3, bias=True)\n",
            "  )\n",
            ")\n"
          ]
        }
      ],
      "metadata": {
        "colab": {
          "base_uri": "https://localhost:8080/"
        },
        "id": "K9RSXYaggAdw",
        "outputId": "d350d0dc-c8b2-445e-dc0b-fd04cff826d3"
      }
    },
    {
      "cell_type": "code",
      "execution_count": 86,
      "source": [
        "num_of_epochs = 200\n",
        "train_loss_history = []\n",
        "test_loss_history = []\n",
        "test_accuracy_history = []\n",
        "optimizer = torch.optim.Adam(model.parameters(), lr=0.001)\n",
        "\n",
        "for epoch in range(num_of_epochs):\n",
        "  train_loss = 0.0\n",
        "  test_loss = 0.0\n",
        "  train_loss_size = 0\n",
        "  test_loss_size = 0\n",
        "  model.train()\n",
        "  for i, batch in enumerate(train_loader):\n",
        "    eef_x, eef_y, q1_current, q2_current,q3_current, q1_next, q2_next,q3_next = batch\n",
        "    eef_x, eef_y, q1_current, q2_current,q3_current, q1_next, q2_next,q3_next = (\n",
        "            eef_x.to(device).float(),\n",
        "            eef_y.to(device).float(),\n",
        "            q1_current.to(device).float(),\n",
        "            q2_current.to(device).float(),\n",
        "            q3_current.to(device).float(),\n",
        "            q1_next.to(device).float(),\n",
        "            q2_next.to(device).float(),\n",
        "            q3_next.to(device).float(),\n",
        "        )\n",
        "\n",
        "    x = torch.cat((eef_x.unsqueeze(1), eef_y.unsqueeze(1), q1_current.unsqueeze(1), q2_current.unsqueeze(1),q3_current.unsqueeze(1)), dim=1).to(device)\n",
        "\n",
        "    # Forward Pass\n",
        "    output = model(x)\n",
        "    # Finding Loss\n",
        "    combined_q = torch.cat((q1_next.unsqueeze(1), q2_next.unsqueeze(1),q3_next.unsqueeze(1)), dim=1)\n",
        "    fit = Loss(output, combined_q)\n",
        "    optimizer.zero_grad()\n",
        "    fit.backward()\n",
        "    # Optimizing Loss\n",
        "    optimizer.step()\n",
        "    train_loss_size += len(eef_x)\n",
        "    train_loss += fit.item()\n",
        "  model.eval()\n",
        "  for i, batch in enumerate(test_loader):\n",
        "    with torch.no_grad():\n",
        "      eef_x, eef_y, q1_current, q2_current,q3_current, q1_next, q2_next,q3_next = batch\n",
        "      eef_x, eef_y, q1_current, q2_current,q3_current, q1_next, q2_next,q3_next = (\n",
        "            eef_x.to(device).float(),\n",
        "            eef_y.to(device).float(),\n",
        "            q1_current.to(device).float(),\n",
        "            q2_current.to(device).float(),\n",
        "            q3_current.to(device).float(),\n",
        "            q1_next.to(device).float(),\n",
        "            q2_next.to(device).float(),\n",
        "            q3_next.to(device).float(),\n",
        "        )\n",
        "\n",
        "      x = torch.cat((eef_x.unsqueeze(1), eef_y.unsqueeze(1), q1_current.unsqueeze(1), q2_current.unsqueeze(1),q3_current.unsqueeze(1)), dim=1).to(device)\n",
        "\n",
        "      # Forward Pass\n",
        "      output = model(x)\n",
        "      # Finding Loss\n",
        "      combined_q = torch.cat((q1_next.unsqueeze(1), q2_next.unsqueeze(1),q3_next.unsqueeze(1)), dim=1)\n",
        "      fit = Loss(output, combined_q)\n",
        "      # Optimizing Loss\n",
        "      test_loss_size += len(eef_x)\n",
        "      test_loss += fit.item()\n",
        "  train_loss = train_loss/train_loss_size\n",
        "  test_loss = test_loss/test_loss_size\n",
        "  train_loss_history.append(train_loss)\n",
        "  test_loss_history.append(test_loss)\n",
        "  print(f\"Epoch: {epoch}, Training Loss: {train_loss:.10f}, Testing Loss: {test_loss:.10f}\")\n",
        "  torch.save(model.state_dict(),'model.pt')\n",
        "  dummy_input = torch.randn(1, 5).to(device)  # Assuming a batch size of 1 and 4 input features\n",
        "\n",
        "  # Export the model to ONNX format\n",
        "  torch.onnx.export(model, dummy_input, \"IKModel3.onnx\", verbose=False)\n"
      ],
      "outputs": [
        {
          "output_type": "error",
          "ename": "KeyboardInterrupt",
          "evalue": "ignored",
          "traceback": [
            "\u001b[0;31m---------------------------------------------------------------------------\u001b[0m",
            "\u001b[0;31mKeyboardInterrupt\u001b[0m                         Traceback (most recent call last)",
            "\u001b[0;32m<ipython-input-86-ca0f5b32ee77>\u001b[0m in \u001b[0;36m<cell line: 7>\u001b[0;34m()\u001b[0m\n\u001b[1;32m     32\u001b[0m     \u001b[0mfit\u001b[0m \u001b[0;34m=\u001b[0m \u001b[0mLoss\u001b[0m\u001b[0;34m(\u001b[0m\u001b[0moutput\u001b[0m\u001b[0;34m,\u001b[0m \u001b[0mcombined_q\u001b[0m\u001b[0;34m)\u001b[0m\u001b[0;34m\u001b[0m\u001b[0;34m\u001b[0m\u001b[0m\n\u001b[1;32m     33\u001b[0m     \u001b[0moptimizer\u001b[0m\u001b[0;34m.\u001b[0m\u001b[0mzero_grad\u001b[0m\u001b[0;34m(\u001b[0m\u001b[0;34m)\u001b[0m\u001b[0;34m\u001b[0m\u001b[0;34m\u001b[0m\u001b[0m\n\u001b[0;32m---> 34\u001b[0;31m     \u001b[0mfit\u001b[0m\u001b[0;34m.\u001b[0m\u001b[0mbackward\u001b[0m\u001b[0;34m(\u001b[0m\u001b[0;34m)\u001b[0m\u001b[0;34m\u001b[0m\u001b[0;34m\u001b[0m\u001b[0m\n\u001b[0m\u001b[1;32m     35\u001b[0m     \u001b[0;31m# Optimizing Loss\u001b[0m\u001b[0;34m\u001b[0m\u001b[0;34m\u001b[0m\u001b[0m\n\u001b[1;32m     36\u001b[0m     \u001b[0moptimizer\u001b[0m\u001b[0;34m.\u001b[0m\u001b[0mstep\u001b[0m\u001b[0;34m(\u001b[0m\u001b[0;34m)\u001b[0m\u001b[0;34m\u001b[0m\u001b[0;34m\u001b[0m\u001b[0m\n",
            "\u001b[0;32m/usr/local/lib/python3.10/dist-packages/torch/_tensor.py\u001b[0m in \u001b[0;36mbackward\u001b[0;34m(self, gradient, retain_graph, create_graph, inputs)\u001b[0m\n\u001b[1;32m    490\u001b[0m                 \u001b[0minputs\u001b[0m\u001b[0;34m=\u001b[0m\u001b[0minputs\u001b[0m\u001b[0;34m,\u001b[0m\u001b[0;34m\u001b[0m\u001b[0;34m\u001b[0m\u001b[0m\n\u001b[1;32m    491\u001b[0m             )\n\u001b[0;32m--> 492\u001b[0;31m         torch.autograd.backward(\n\u001b[0m\u001b[1;32m    493\u001b[0m             \u001b[0mself\u001b[0m\u001b[0;34m,\u001b[0m \u001b[0mgradient\u001b[0m\u001b[0;34m,\u001b[0m \u001b[0mretain_graph\u001b[0m\u001b[0;34m,\u001b[0m \u001b[0mcreate_graph\u001b[0m\u001b[0;34m,\u001b[0m \u001b[0minputs\u001b[0m\u001b[0;34m=\u001b[0m\u001b[0minputs\u001b[0m\u001b[0;34m\u001b[0m\u001b[0;34m\u001b[0m\u001b[0m\n\u001b[1;32m    494\u001b[0m         )\n",
            "\u001b[0;32m/usr/local/lib/python3.10/dist-packages/torch/autograd/__init__.py\u001b[0m in \u001b[0;36mbackward\u001b[0;34m(tensors, grad_tensors, retain_graph, create_graph, grad_variables, inputs)\u001b[0m\n\u001b[1;32m    249\u001b[0m     \u001b[0;31m# some Python versions print out the first line of a multi-line function\u001b[0m\u001b[0;34m\u001b[0m\u001b[0;34m\u001b[0m\u001b[0m\n\u001b[1;32m    250\u001b[0m     \u001b[0;31m# calls in the traceback and some print out the last line\u001b[0m\u001b[0;34m\u001b[0m\u001b[0;34m\u001b[0m\u001b[0m\n\u001b[0;32m--> 251\u001b[0;31m     Variable._execution_engine.run_backward(  # Calls into the C++ engine to run the backward pass\n\u001b[0m\u001b[1;32m    252\u001b[0m         \u001b[0mtensors\u001b[0m\u001b[0;34m,\u001b[0m\u001b[0;34m\u001b[0m\u001b[0;34m\u001b[0m\u001b[0m\n\u001b[1;32m    253\u001b[0m         \u001b[0mgrad_tensors_\u001b[0m\u001b[0;34m,\u001b[0m\u001b[0;34m\u001b[0m\u001b[0;34m\u001b[0m\u001b[0m\n",
            "\u001b[0;31mKeyboardInterrupt\u001b[0m: "
          ]
        }
      ],
      "metadata": {
        "colab": {
          "base_uri": "https://localhost:8080/",
          "height": 402
        },
        "id": "9_v982Ot_neL",
        "outputId": "eb16f1e1-2b13-408e-adc0-01344eef6baa"
      }
    },
    {
      "cell_type": "code",
      "execution_count": null,
      "source": [
        "torch.save(model.state_dict(),'model.pt')"
      ],
      "outputs": [],
      "metadata": {
        "id": "vHmPh-xXvw8N"
      }
    },
    {
      "cell_type": "code",
      "execution_count": null,
      "source": [
        "print(train_loss_history)\n",
        "print(test_loss_history)"
      ],
      "outputs": [],
      "metadata": {
        "id": "9IAgugunHSFk"
      }
    },
    {
      "cell_type": "code",
      "execution_count": null,
      "source": [
        "fig = plt.figure()\n",
        "plt.plot(range(len(train_loss_history)),train_loss_history,\"-\",linewidth=3,label=\"Train Error\")\n",
        "plt.plot(range(len(test_loss_history)),test_loss_history,\"-\",linewidth=3,label=\"Test Error\")\n",
        "plt.legend()\n",
        "plt.show()"
      ],
      "outputs": [],
      "metadata": {
        "id": "WDyqXxtxR2h2"
      }
    },
    {
      "cell_type": "code",
      "execution_count": null,
      "source": [
        "with torch.no_grad():  # Ensure gradients are not calculated\n",
        "    output = model(new_input)"
      ],
      "outputs": [],
      "metadata": {
        "id": "aC2t65d4TEuc"
      }
    },
    {
      "cell_type": "code",
      "execution_count": null,
      "source": [
        "torch.save(model.state_dict(),'model.pt')"
      ],
      "outputs": [],
      "metadata": {
        "id": "VXo0c07PVMxX"
      }
    },
    {
      "cell_type": "code",
      "execution_count": null,
      "source": [
        "import torch\n",
        "\n",
        "# 2.946297338493151 -4.360614348632136 0.038424728324865494 4.249459785484152 0.04 4.249999999999954\n",
        "\n",
        "# Input values\n",
        "eef_x = 2.946297338493151\n",
        "eef_y = -4.360614348632136\n",
        "q1_current = 0.038424728324865494\n",
        "q2_current = 4.249459785484152\n",
        "\n",
        "# Convert the inputs into tensors and add a batch dimension\n",
        "x = torch.tensor([eef_x,eef_y,q1_current,q2_current]).to(device)\n",
        "\n",
        "# Pass the input through the model\n",
        "model.eval()\n",
        "with torch.no_grad():\n",
        "    output = model(x)\n",
        "\n",
        "print(output)"
      ],
      "outputs": [],
      "metadata": {
        "id": "d-ea-S9obHl3"
      }
    },
    {
      "cell_type": "code",
      "execution_count": 27,
      "source": [
        "pip install onnx\n"
      ],
      "outputs": [
        {
          "output_type": "stream",
          "name": "stdout",
          "text": [
            "Collecting onnx\n",
            "  Downloading onnx-1.15.0-cp310-cp310-manylinux_2_17_x86_64.manylinux2014_x86_64.whl (15.7 MB)\n",
            "\u001b[2K     \u001b[90m━━━━━━━━━━━━━━━━━━━━━━━━━━━━━━━━━━━━━━━━\u001b[0m \u001b[32m15.7/15.7 MB\u001b[0m \u001b[31m82.5 MB/s\u001b[0m eta \u001b[36m0:00:00\u001b[0m\n",
            "\u001b[?25hRequirement already satisfied: numpy in /usr/local/lib/python3.10/dist-packages (from onnx) (1.23.5)\n",
            "Requirement already satisfied: protobuf>=3.20.2 in /usr/local/lib/python3.10/dist-packages (from onnx) (3.20.3)\n",
            "Installing collected packages: onnx\n",
            "Successfully installed onnx-1.15.0\n"
          ]
        }
      ],
      "metadata": {
        "id": "jR0rrwg57wyh",
        "outputId": "18e64f06-68c6-40db-8ac7-fce29d270973",
        "colab": {
          "base_uri": "https://localhost:8080/"
        }
      }
    },
    {
      "cell_type": "code",
      "execution_count": null,
      "source": [
        "dummy_input = torch.randn(1, 4).to(device)  # Assuming a batch size of 1 and 4 input features\n",
        "\n",
        "# Export the model to ONNX format\n",
        "torch.onnx.export(model, dummy_input, \"IKModel.onnx\", verbose=True)"
      ],
      "outputs": [],
      "metadata": {
        "id": "GbxB4qzzRMVy"
      }
    },
    {
      "cell_type": "code",
      "execution_count": null,
      "source": [],
      "outputs": [],
      "metadata": {
        "id": "AFMA0VtT7Za3"
      }
    }
  ],
  "metadata": {
    "accelerator": "GPU",
    "colab": {
      "provenance": [],
      "machine_shape": "hm",
      "gpuType": "T4"
    },
    "kernelspec": {
      "name": "python3",
      "display_name": "Python 3.10.9 64-bit ('base': conda)"
    },
    "language_info": {
      "name": "python",
      "version": "3.10.9",
      "mimetype": "text/x-python",
      "codemirror_mode": {
        "name": "ipython",
        "version": 3
      },
      "pygments_lexer": "ipython3",
      "nbconvert_exporter": "python",
      "file_extension": ".py"
    },
    "interpreter": {
      "hash": "1d051fc57616189bbb3568453e7ae6a09b39d30a7544d80b45e2dc7e0ced0be8"
    }
  },
  "nbformat": 4,
  "nbformat_minor": 0
}