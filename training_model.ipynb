{
  "cells": [
    {
      "cell_type": "code",
      "execution_count": 1,
      "source": [
        "import torch\n",
        "import torch.nn as nn\n",
        "import matplotlib.pyplot as plt\n",
        "import numpy as np\n",
        "import os\n",
        "from torch.utils.data import Dataset, DataLoader\n",
        "from sklearn.model_selection import train_test_split\n",
        "from torch.autograd import Variable\n",
        "from math import pi\n",
        "import random\n",
        "import numpy as np\n",
        "from math import cos, sin"
      ],
      "outputs": [],
      "metadata": {
        "id": "TTvPtGgBepel"
      }
    },
    {
      "cell_type": "markdown",
      "source": [
        "# Means of Modeling Manipulators\n",
        "\n",
        "To start, the classes \"Manipulator\" and \"Link\" were created that allows the representation of the specifications of manipulators. These classes will be used later on to generate the data required for the manipulators we will train our models to compute the inverse kinematics for. For an instance of this class to be instantiated, the Denavit-Hartenberg (DH) parameters of the manipulator's links will have to be provided. This allows for the forward kinemtics to be computed in order to find the position of the end effector, given the link's angles."
      ],
      "metadata": {
        "id": "4QcLrqbR_neE"
      }
    },
    {
      "cell_type": "code",
      "execution_count": 2,
      "source": [
        "class Link():\n",
        "    def __init__(self,theta_offset,d,alpha,a):\n",
        "        self.theta_offset = theta_offset\n",
        "        self.d = d\n",
        "        self.alpha = alpha\n",
        "        self.a = a\n",
        "    def get_transformation(self, theta):\n",
        "        theta = theta+self.theta_offset\n",
        "        transformation_matrix = np.array([\n",
        "            [cos(theta), -sin(theta) * cos(self.alpha), sin(theta) * sin(self.alpha), self.a * cos(theta)],\n",
        "            [sin(theta), cos(theta) * cos(self.alpha), -cos(theta) * sin(self.alpha), self.a * sin(theta)],\n",
        "            [0, sin(self.alpha), cos(self.alpha), self.d],\n",
        "            [0, 0, 0, 1]\n",
        "        ])\n",
        "        return transformation_matrix\n",
        "\n",
        "class Manipulator:\n",
        "    def __init__(self, links=None, q=None):\n",
        "        self.links = links if links else []\n",
        "        self.q = q if q else []\n",
        "\n",
        "    def add_link(self, link):\n",
        "        self.links.append(link)\n",
        "\n",
        "    def forward_kinematics(self, joint_angles):\n",
        "        transformation_matrix = np.identity(4)\n",
        "        pos = []\n",
        "        for i in range(len(self.links)):\n",
        "            transformation_matrix = np.dot(transformation_matrix, self.links[i].get_transformation(joint_angles[i]))\n",
        "            pos.append([transformation_matrix[0][3],transformation_matrix[1][3]])\n",
        "        return transformation_matrix"
      ],
      "outputs": [],
      "metadata": {
        "id": "dbTewFCp_neG"
      }
    },
    {
      "cell_type": "markdown",
      "source": [
        "# Two-Joints Manipulator Continous Path\n",
        "\n",
        "In the second iteration, the aim is to design a neural network capable of determining the **joint angles necessary** for the manipulator to reach a desired end-effector position. This neural network will take as inputs both the desired **end-effector position** as well as the **current joint angles** of the manipulator. The output will be the set of joint angles required to achieve the specified end-effector position.\n",
        "\n",
        "**Input:**\n",
        "- eef_x: x component of the end-effector's position (float)\n",
        "- eef_y: y component of the end-effector's position (float)\n",
        "- q1_current: current theta_1 angle (float)\n",
        "- q2_current: current theta_2 angle (float)\n",
        "\n",
        "**Output:**\n",
        "- q1_next: next theta_1 angle required to achieve (eef_x,eef_y) position (float)\n",
        "- q2_next: next theta_2 angle required to achieve (eef_x,eef_y) position (float)"
      ],
      "metadata": {
        "id": "YkfUppIL_neG"
      }
    },
    {
      "cell_type": "markdown",
      "source": [
        "**Initiating a 2-Joints Manipulator**\n",
        "\n",
        "The class \"Manipulator\" created was then used to create an instant of a 2 joints model. A sketch of the first manipulator considered can be seen below along with it's DH parameters required to set it up.\n",
        "\n",
        "<img height=\"300px\"  style=\"padding:20px\" src=\"https://github.com/omarrayyann/IK-NN/blob/master/Images/two_joints_manip.jpg?raw=1\">\n",
        "<img height=\"300px\"  style=\"padding:20px\" src=\"https://github.com/omarrayyann/IK-NN/blob/master/Images/dh_table.jpg?raw=1\">\n",
        "\n"
      ],
      "metadata": {
        "id": "X1dpkqBM_neH"
      }
    },
    {
      "cell_type": "code",
      "execution_count": 3,
      "source": [
        "link1 = Link(theta_offset=0, d=0, alpha=0, a=5)\n",
        "link2 = Link(theta_offset=0, d=0, alpha=0, a=5)\n",
        "\n",
        "manip = Manipulator()\n",
        "manip.add_link(link1)\n",
        "manip.add_link(link2)"
      ],
      "outputs": [],
      "metadata": {
        "id": "-xA_rXbB_neH"
      }
    },
    {
      "cell_type": "markdown",
      "source": [
        "**Data Generation Specifications (exporting data):**\n",
        "\n",
        "- Range of q1_next: from 0 to 2pi\n",
        "- Range of q2_next: from 0 to 2pi\n",
        "- Step Size for both q1_next and q2_next: 0.01\n",
        "\n",
        "- q1_current and q2_current will be set to 20 random angles +/- a maximum of 0.005 from q1_next and q2_next respectively"
      ],
      "metadata": {
        "id": "STq1zUum_neI"
      }
    },
    {
      "cell_type": "markdown",
      "source": [
        "(Note: Can skip this block if file \"two_joints_with_nearby_data.txt\" already in directory)"
      ],
      "metadata": {
        "id": "o_qgDf7t_neI"
      }
    },
    {
      "cell_type": "code",
      "execution_count": 89,
      "source": [
        "q1_next_from = 0\n",
        "q1_next_to = 2*pi\n",
        "q1_next_step_size = 0.02\n",
        "\n",
        "q2_next_from = 0\n",
        "q2_next_to = 2*pi\n",
        "q2_next_step_size = 0.02\n",
        "\n",
        "total_iterations = ((q1_next_to - q1_next_from) / q1_next_step_size + 1) * ((q2_next_to - q2_next_from) / q2_next_step_size + 1)\n",
        "progress_interval = total_iterations // 10\n",
        "\n",
        "with open('two_joints_with_nearby_data.txt', 'w') as file:\n",
        "    q1_next = q1_next_from\n",
        "    iterations = 0\n",
        "    while q1_next <= q1_next_to:\n",
        "        q2_next = q2_next_from\n",
        "        while q2_next <= q2_next_to:\n",
        "            end_effector_positions = manip.forward_kinematics([q1_next,q2_next])\n",
        "            x = end_effector_positions[0][3]\n",
        "            y = end_effector_positions[1][3]\n",
        "            for i in range(20):\n",
        "                ran = random.uniform(-0.01, 0.01)\n",
        "                q1_current = q1_next + ran\n",
        "                ran = random.uniform(-0.01, 0.01)\n",
        "                q2_current = q2_next + ran\n",
        "                file.write(f\"{x} {y} {q1_current} {q2_current} {q1_next} {q2_next} \\n\")\n",
        "            iterations += 1\n",
        "            if iterations % progress_interval == 0:\n",
        "                progress_percent = (iterations / total_iterations) * 100\n",
        "                print(f\"Progress: {progress_percent:.2f}%\")\n",
        "            q2_next = q2_next + q1_next_step_size\n",
        "        q1_next = q1_next + q2_next_step_size\n",
        "print(f\"Progress: 100.00%\")"
      ],
      "outputs": [
        {
          "output_type": "stream",
          "name": "stdout",
          "text": [
            "Progress: 10.00%\n",
            "Progress: 20.00%\n",
            "Progress: 30.00%\n",
            "Progress: 40.00%\n",
            "Progress: 50.00%\n",
            "Progress: 60.00%\n",
            "Progress: 70.00%\n",
            "Progress: 80.00%\n",
            "Progress: 90.00%\n",
            "Progress: 100.00%\n"
          ]
        }
      ],
      "metadata": {
        "colab": {
          "base_uri": "https://localhost:8080/"
        },
        "id": "L93-rNIA_neI",
        "outputId": "8cbcd3a7-e1f4-4e26-fcf4-75e36f6c9194"
      }
    },
    {
      "cell_type": "markdown",
      "source": [
        "**Getting Data (importing data):**\n",
        "\n",
        "Storing the inputs (eef_x,eef_y,q1_current,q2_current) and outputs (q1_next,q2_next) in the required format"
      ],
      "metadata": {
        "id": "w80ovWtr_neI"
      }
    },
    {
      "cell_type": "code",
      "execution_count": 123,
      "source": [
        "eef_x = []\n",
        "eef_y = []\n",
        "q1_current = []\n",
        "q2_current = []\n",
        "\n",
        "q1_next = []\n",
        "q2_next = []\n",
        "\n",
        "with open('two_joints_with_nearby_data.txt', 'r') as file:\n",
        "    lines = file.readlines()\n",
        "    for line in lines:\n",
        "        data = line.split()\n",
        "        eef_x.append(float(data[0]))\n",
        "        eef_y.append(float(data[1]))\n",
        "        q1_current.append(float(data[2]))\n",
        "        q2_current.append(float(data[3]))\n",
        "        q1_next.append(float(data[4]))\n",
        "        q2_next.append(float(data[5]))\n",
        "\n",
        "eef_x = np.array(eef_x)\n",
        "eef_y = np.array(eef_y)\n",
        "q1_current = np.array(q1_current)\n",
        "q2_current = np.array(q2_current)\n",
        "\n",
        "q1_next = np.array(q1_next)\n",
        "q2_next = np.array(q2_next)\n",
        "\n",
        "print(\"eef_x Shape: \", eef_x.shape)\n",
        "print(\"eef_y Shape: \", eef_y.shape)\n",
        "print(\"q1_current Shape: \", q1_current.shape)\n",
        "print(\"q2_current Shape: \", q2_current.shape)\n",
        "\n",
        "print(\"q1_next Shape: \", q1_next.shape)\n",
        "print(\"q2_next Shape: \", q2_next.shape)"
      ],
      "outputs": [
        {
          "output_type": "stream",
          "name": "stdout",
          "text": [
            "eef_x Shape:  (1984500,)\n",
            "eef_y Shape:  (1984500,)\n",
            "q1_current Shape:  (1984500,)\n",
            "q2_current Shape:  (1984500,)\n",
            "q1_next Shape:  (1984500,)\n",
            "q2_next Shape:  (1984500,)\n"
          ]
        }
      ],
      "metadata": {
        "colab": {
          "base_uri": "https://localhost:8080/"
        },
        "id": "XE1V4GWw_neJ",
        "outputId": "96d07bc3-3cbc-4fda-8d81-415eb8a21803"
      }
    },
    {
      "cell_type": "code",
      "source": [
        "# Create a scatter plot\n",
        "plt.scatter(eef_x, eef_y, color=\"r\")\n",
        "\n",
        "# Set labels and title\n",
        "plt.xlabel('X-axis')\n",
        "plt.ylabel('Y-axis')\n",
        "plt.title('Scatter Plot')\n",
        "\n",
        "# Show the plot\n",
        "plt.show()"
      ],
      "metadata": {
        "colab": {
          "base_uri": "https://localhost:8080/",
          "height": 472
        },
        "id": "V_WNKETBMJR8",
        "outputId": "9865a33c-2a2d-4111-812b-7e147c2e0609"
      },
      "execution_count": 124,
      "outputs": [
        {
          "output_type": "display_data",
          "data": {
            "text/plain": [
              "<Figure size 640x480 with 1 Axes>"
            ],
            "image/png": "[encoded data removed]"
          },
          "metadata": {}
        }
      ]
    },
    {
      "cell_type": "markdown",
      "source": [
        "**0. Necessary Setup**"
      ],
      "metadata": {
        "id": "jddIeJV4gq3-"
      }
    },
    {
      "cell_type": "code",
      "execution_count": 125,
      "source": [
        "# Using cuda GPU\n",
        "device = torch.device(\"cuda:0\" if torch.cuda.is_available() else \"cpu\")"
      ],
      "outputs": [],
      "metadata": {
        "id": "uzDGfun2gqWK"
      }
    },
    {
      "cell_type": "code",
      "execution_count": 126,
      "source": [
        "class PosesDataset(Dataset):\n",
        "    def __init__(self, eef_x, eef_y, q1_current, q2_current, q1_next, q2_next):\n",
        "        self.eef_x = torch.tensor(eef_x, dtype=torch.float32)\n",
        "        self.eef_y = torch.tensor(eef_y, dtype=torch.float32)\n",
        "        self.q1_current = torch.tensor(q1_current, dtype=torch.float32)\n",
        "        self.q2_current = torch.tensor(q2_current, dtype=torch.float32)\n",
        "        self.q1_next = torch.tensor(q1_next, dtype=torch.float32)\n",
        "        self.q2_next = torch.tensor(q2_next, dtype=torch.float32)\n",
        "\n",
        "    def __len__(self):\n",
        "        return len(self.eef_x)\n",
        "\n",
        "    def __getitem__(self, idx):\n",
        "        return (\n",
        "            self.eef_x[idx],\n",
        "            self.eef_y[idx],\n",
        "            self.q1_current[idx],\n",
        "            self.q2_current[idx],\n",
        "            self.q1_next[idx],\n",
        "            self.q2_next[idx]\n",
        "        )"
      ],
      "outputs": [],
      "metadata": {
        "id": "wzM20ij72iTZ"
      }
    },
    {
      "cell_type": "code",
      "execution_count": 127,
      "source": [
        "# Initialize dataset\n",
        "dataset = PosesDataset(eef_x, eef_y, q1_current, q2_current, q1_next, q2_next)\n",
        "\n",
        "# Define train/validation split (if needed)\n",
        "train_size = int(1 * len(dataset))\n",
        "test_size = len(dataset) - train_size\n",
        "train_dataset, test_dataset = torch.utils.data.random_split(dataset, [train_size, test_size])\n",
        "\n",
        "# Initialize data loaders\n",
        "batch_size = 64\n",
        "train_loader = DataLoader(train_dataset, batch_size=batch_size, shuffle=True)\n",
        "# test_loader = DataLoader(test_dataset, batch_size=batch_size, shuffle=True)\n",
        "# print(test_size)\n",
        "# print(train_size)"
      ],
      "outputs": [],
      "metadata": {
        "id": "7OLIW_tQ_neK"
      }
    },
    {
      "cell_type": "code",
      "execution_count": 163,
      "source": [
        "class IKModel(nn.Module):\n",
        "    def __init__(self):\n",
        "        super(IKModel, self).__init__()\n",
        "        # Define your model architecture\n",
        "        # Example:\n",
        "        self.fc = nn.Sequential(\n",
        "            nn.Linear(4, 128),\n",
        "            nn.Sigmoid(),\n",
        "            nn.Linear(128, 64),\n",
        "            nn.Sigmoid(),\n",
        "            nn.Linear(64, 32),\n",
        "            nn.Sigmoid(),\n",
        "            nn.Linear(32, 16),\n",
        "            nn.Sigmoid(),\n",
        "            nn.Linear(16, 8),\n",
        "            nn.Sigmoid(),\n",
        "            nn.Linear(8, 2)  # Output layer for q1_next, q2_next\n",
        "        )\n",
        "\n",
        "    def forward(self, x):\n",
        "\n",
        "        # Forward pass through the model\n",
        "        output = self.fc(x)\n",
        "        return output\n"
      ],
      "outputs": [],
      "metadata": {
        "id": "Tqq4iE9Xut3o"
      }
    },
    {
      "cell_type": "code",
      "execution_count": 156,
      "source": [
        "model = IKModel().to(device)\n",
        "criterion = nn.MSELoss()\n",
        "optimizer = torch.optim.Adam(model.parameters(), lr=0.001)\n",
        "Loss = nn.MSELoss()\n",
        "print(model)"
      ],
      "outputs": [
        {
          "output_type": "stream",
          "name": "stdout",
          "text": [
            "IKModel(\n",
            "  (fc): Sequential(\n",
            "    (0): Linear(in_features=4, out_features=128, bias=True)\n",
            "    (1): Sigmoid()\n",
            "    (2): Linear(in_features=128, out_features=64, bias=True)\n",
            "    (3): Sigmoid()\n",
            "    (4): Linear(in_features=64, out_features=32, bias=True)\n",
            "    (5): Sigmoid()\n",
            "    (6): Linear(in_features=32, out_features=16, bias=True)\n",
            "    (7): Sigmoid()\n",
            "    (8): Linear(in_features=16, out_features=8, bias=True)\n",
            "    (9): Sigmoid()\n",
            "    (10): Linear(in_features=8, out_features=2, bias=True)\n",
            "  )\n",
            ")\n"
          ]
        }
      ],
      "metadata": {
        "colab": {
          "base_uri": "https://localhost:8080/"
        },
        "id": "K9RSXYaggAdw",
        "outputId": "2b7117a4-1ac8-4c2e-839a-4885c4256045"
      }
    },
    {
      "cell_type": "code",
      "execution_count": 173,
      "source": [
        "num_of_epochs = 200\n",
        "train_loss_history = []\n",
        "test_loss_history = []\n",
        "test_accuracy_history = []\n",
        "\n",
        "for epoch in range(num_of_epochs):\n",
        "  train_loss = 0.0\n",
        "  test_loss = 0.0\n",
        "  train_loss_size = 0\n",
        "  test_loss_size = 0\n",
        "  model.train()\n",
        "  for i, batch in enumerate(train_loader):\n",
        "    eef_x, eef_y, q1_current, q2_current, q1_next, q2_next = batch\n",
        "    eef_x, eef_y, q1_current, q2_current, q1_next, q2_next = (\n",
        "            eef_x.to(device).float(),\n",
        "            eef_y.to(device).float(),\n",
        "            q1_current.to(device).float(),\n",
        "            q2_current.to(device).float(),\n",
        "            q1_next.to(device).float(),\n",
        "            q2_next.to(device).float(),\n",
        "        )\n",
        "\n",
        "    x = torch.cat((eef_x.unsqueeze(1), eef_y.unsqueeze(1), q1_current.unsqueeze(1), q2_current.unsqueeze(1)), dim=1).to(device)\n",
        "\n",
        "    # Forward Pass\n",
        "    output = model(x)\n",
        "    # Finding Loss\n",
        "    combined_q = torch.cat((q1_next.unsqueeze(1), q2_next.unsqueeze(1)), dim=1)\n",
        "    fit = Loss(output, combined_q)\n",
        "    optimizer.zero_grad()\n",
        "    fit.backward()\n",
        "    # Optimizing Loss\n",
        "    optimizer.step()\n",
        "    train_loss_size += len(eef_x)\n",
        "    train_loss += fit.item()\n",
        "  model.eval()\n",
        "  train_loss = train_loss/train_loss_size\n",
        "  # test_loss = test_loss/test_loss_size\n",
        "  train_loss_history.append(train_loss)\n",
        "  # test_loss_history.append(test_loss)\n",
        "  print(f\"Epoch: {epoch}, Training Loss: {train_loss:.10f}\")\n",
        "  torch.save(model.state_dict(),'model.pt')\n"
      ],
      "outputs": [
        {
          "metadata": {
            "tags": null
          },
          "name": "stdout",
          "output_type": "stream",
          "text": [
            "Epoch: 0, Training Loss: 0.0021359556\n"
          ]
        },
        {
          "ename": "KeyboardInterrupt",
          "evalue": "ignored",
          "output_type": "error",
          "traceback": [
            "\u001b[0;31m---------------------------------------------------------------------------\u001b[0m",
            "\u001b[0;31mKeyboardInterrupt\u001b[0m                         Traceback (most recent call last)",
            "\u001b[0;32m<ipython-input-173-519d47c4c322>\u001b[0m in \u001b[0;36m<cell line: 6>\u001b[0;34m()\u001b[0m\n\u001b[1;32m     31\u001b[0m     \u001b[0mfit\u001b[0m\u001b[0;34m.\u001b[0m\u001b[0mbackward\u001b[0m\u001b[0;34m(\u001b[0m\u001b[0;34m)\u001b[0m\u001b[0;34m\u001b[0m\u001b[0;34m\u001b[0m\u001b[0m\n\u001b[1;32m     32\u001b[0m     \u001b[0;31m# Optimizing Loss\u001b[0m\u001b[0;34m\u001b[0m\u001b[0;34m\u001b[0m\u001b[0m\n\u001b[0;32m---> 33\u001b[0;31m     \u001b[0moptimizer\u001b[0m\u001b[0;34m.\u001b[0m\u001b[0mstep\u001b[0m\u001b[0;34m(\u001b[0m\u001b[0;34m)\u001b[0m\u001b[0;34m\u001b[0m\u001b[0;34m\u001b[0m\u001b[0m\n\u001b[0m\u001b[1;32m     34\u001b[0m     \u001b[0mtrain_loss_size\u001b[0m \u001b[0;34m+=\u001b[0m \u001b[0mlen\u001b[0m\u001b[0;34m(\u001b[0m\u001b[0meef_x\u001b[0m\u001b[0;34m)\u001b[0m\u001b[0;34m\u001b[0m\u001b[0;34m\u001b[0m\u001b[0m\n\u001b[1;32m     35\u001b[0m     \u001b[0mtrain_loss\u001b[0m \u001b[0;34m+=\u001b[0m \u001b[0mfit\u001b[0m\u001b[0;34m.\u001b[0m\u001b[0mitem\u001b[0m\u001b[0;34m(\u001b[0m\u001b[0;34m)\u001b[0m\u001b[0;34m\u001b[0m\u001b[0;34m\u001b[0m\u001b[0m\n",
            "\u001b[0;32m/usr/local/lib/python3.10/dist-packages/torch/optim/optimizer.py\u001b[0m in \u001b[0;36mwrapper\u001b[0;34m(*args, **kwargs)\u001b[0m\n\u001b[1;32m    371\u001b[0m                             )\n\u001b[1;32m    372\u001b[0m \u001b[0;34m\u001b[0m\u001b[0m\n\u001b[0;32m--> 373\u001b[0;31m                 \u001b[0mout\u001b[0m \u001b[0;34m=\u001b[0m \u001b[0mfunc\u001b[0m\u001b[0;34m(\u001b[0m\u001b[0;34m*\u001b[0m\u001b[0margs\u001b[0m\u001b[0;34m,\u001b[0m \u001b[0;34m**\u001b[0m\u001b[0mkwargs\u001b[0m\u001b[0;34m)\u001b[0m\u001b[0;34m\u001b[0m\u001b[0;34m\u001b[0m\u001b[0m\n\u001b[0m\u001b[1;32m    374\u001b[0m                 \u001b[0mself\u001b[0m\u001b[0;34m.\u001b[0m\u001b[0m_optimizer_step_code\u001b[0m\u001b[0;34m(\u001b[0m\u001b[0;34m)\u001b[0m\u001b[0;34m\u001b[0m\u001b[0;34m\u001b[0m\u001b[0m\n\u001b[1;32m    375\u001b[0m \u001b[0;34m\u001b[0m\u001b[0m\n",
            "\u001b[0;32m/usr/local/lib/python3.10/dist-packages/torch/optim/optimizer.py\u001b[0m in \u001b[0;36m_use_grad\u001b[0;34m(self, *args, **kwargs)\u001b[0m\n\u001b[1;32m     74\u001b[0m             \u001b[0mtorch\u001b[0m\u001b[0;34m.\u001b[0m\u001b[0mset_grad_enabled\u001b[0m\u001b[0;34m(\u001b[0m\u001b[0mself\u001b[0m\u001b[0;34m.\u001b[0m\u001b[0mdefaults\u001b[0m\u001b[0;34m[\u001b[0m\u001b[0;34m'differentiable'\u001b[0m\u001b[0;34m]\u001b[0m\u001b[0;34m)\u001b[0m\u001b[0;34m\u001b[0m\u001b[0;34m\u001b[0m\u001b[0m\n\u001b[1;32m     75\u001b[0m             \u001b[0mtorch\u001b[0m\u001b[0;34m.\u001b[0m\u001b[0m_dynamo\u001b[0m\u001b[0;34m.\u001b[0m\u001b[0mgraph_break\u001b[0m\u001b[0;34m(\u001b[0m\u001b[0;34m)\u001b[0m\u001b[0;34m\u001b[0m\u001b[0;34m\u001b[0m\u001b[0m\n\u001b[0;32m---> 76\u001b[0;31m             \u001b[0mret\u001b[0m \u001b[0;34m=\u001b[0m \u001b[0mfunc\u001b[0m\u001b[0;34m(\u001b[0m\u001b[0mself\u001b[0m\u001b[0;34m,\u001b[0m \u001b[0;34m*\u001b[0m\u001b[0margs\u001b[0m\u001b[0;34m,\u001b[0m \u001b[0;34m**\u001b[0m\u001b[0mkwargs\u001b[0m\u001b[0;34m)\u001b[0m\u001b[0;34m\u001b[0m\u001b[0;34m\u001b[0m\u001b[0m\n\u001b[0m\u001b[1;32m     77\u001b[0m         \u001b[0;32mfinally\u001b[0m\u001b[0;34m:\u001b[0m\u001b[0;34m\u001b[0m\u001b[0;34m\u001b[0m\u001b[0m\n\u001b[1;32m     78\u001b[0m             \u001b[0mtorch\u001b[0m\u001b[0;34m.\u001b[0m\u001b[0m_dynamo\u001b[0m\u001b[0;34m.\u001b[0m\u001b[0mgraph_break\u001b[0m\u001b[0;34m(\u001b[0m\u001b[0;34m)\u001b[0m\u001b[0;34m\u001b[0m\u001b[0;34m\u001b[0m\u001b[0m\n",
            "\u001b[0;32m/usr/local/lib/python3.10/dist-packages/torch/optim/adam.py\u001b[0m in \u001b[0;36mstep\u001b[0;34m(self, closure)\u001b[0m\n\u001b[1;32m    161\u001b[0m                 state_steps)\n\u001b[1;32m    162\u001b[0m \u001b[0;34m\u001b[0m\u001b[0m\n\u001b[0;32m--> 163\u001b[0;31m             adam(\n\u001b[0m\u001b[1;32m    164\u001b[0m                 \u001b[0mparams_with_grad\u001b[0m\u001b[0;34m,\u001b[0m\u001b[0;34m\u001b[0m\u001b[0;34m\u001b[0m\u001b[0m\n\u001b[1;32m    165\u001b[0m                 \u001b[0mgrads\u001b[0m\u001b[0;34m,\u001b[0m\u001b[0;34m\u001b[0m\u001b[0;34m\u001b[0m\u001b[0m\n",
            "\u001b[0;32m/usr/local/lib/python3.10/dist-packages/torch/optim/adam.py\u001b[0m in \u001b[0;36madam\u001b[0;34m(params, grads, exp_avgs, exp_avg_sqs, max_exp_avg_sqs, state_steps, foreach, capturable, differentiable, fused, grad_scale, found_inf, amsgrad, beta1, beta2, lr, weight_decay, eps, maximize)\u001b[0m\n\u001b[1;32m    283\u001b[0m     \u001b[0;31m# bake-in time before making it the default, even if it is typically faster.\u001b[0m\u001b[0;34m\u001b[0m\u001b[0;34m\u001b[0m\u001b[0m\n\u001b[1;32m    284\u001b[0m     \u001b[0;32mif\u001b[0m \u001b[0mfused\u001b[0m \u001b[0;32mis\u001b[0m \u001b[0;32mNone\u001b[0m \u001b[0;32mand\u001b[0m \u001b[0mforeach\u001b[0m \u001b[0;32mis\u001b[0m \u001b[0;32mNone\u001b[0m\u001b[0;34m:\u001b[0m\u001b[0;34m\u001b[0m\u001b[0;34m\u001b[0m\u001b[0m\n\u001b[0;32m--> 285\u001b[0;31m         \u001b[0m_\u001b[0m\u001b[0;34m,\u001b[0m \u001b[0mforeach\u001b[0m \u001b[0;34m=\u001b[0m \u001b[0m_default_to_fused_or_foreach\u001b[0m\u001b[0;34m(\u001b[0m\u001b[0mparams\u001b[0m\u001b[0;34m,\u001b[0m \u001b[0mdifferentiable\u001b[0m\u001b[0;34m,\u001b[0m \u001b[0muse_fused\u001b[0m\u001b[0;34m=\u001b[0m\u001b[0;32mFalse\u001b[0m\u001b[0;34m)\u001b[0m\u001b[0;34m\u001b[0m\u001b[0;34m\u001b[0m\u001b[0m\n\u001b[0m\u001b[1;32m    286\u001b[0m         \u001b[0;31m# Do not flip on foreach for the unsupported case where lr is a Tensor and capturable=False.\u001b[0m\u001b[0;34m\u001b[0m\u001b[0;34m\u001b[0m\u001b[0m\n\u001b[1;32m    287\u001b[0m         \u001b[0;32mif\u001b[0m \u001b[0mforeach\u001b[0m \u001b[0;32mand\u001b[0m \u001b[0misinstance\u001b[0m\u001b[0;34m(\u001b[0m\u001b[0mlr\u001b[0m\u001b[0;34m,\u001b[0m \u001b[0mTensor\u001b[0m\u001b[0;34m)\u001b[0m \u001b[0;32mand\u001b[0m \u001b[0;32mnot\u001b[0m \u001b[0mcapturable\u001b[0m\u001b[0;34m:\u001b[0m\u001b[0;34m\u001b[0m\u001b[0;34m\u001b[0m\u001b[0m\n",
            "\u001b[0;32m/usr/local/lib/python3.10/dist-packages/torch/optim/optimizer.py\u001b[0m in \u001b[0;36m_default_to_fused_or_foreach\u001b[0;34m(params, differentiable, use_fused)\u001b[0m\n\u001b[1;32m    120\u001b[0m                       torch.is_floating_point(p)) for p in params\n\u001b[1;32m    121\u001b[0m     )\n\u001b[0;32m--> 122\u001b[0;31m     foreach = not fused and all(\n\u001b[0m\u001b[1;32m    123\u001b[0m         p is None or (type(p) in _foreach_supported_types and\n\u001b[1;32m    124\u001b[0m                       p.device.type in foreach_supported_devices) for p in params\n",
            "\u001b[0;32m/usr/local/lib/python3.10/dist-packages/torch/optim/optimizer.py\u001b[0m in \u001b[0;36m<genexpr>\u001b[0;34m(.0)\u001b[0m\n\u001b[1;32m    120\u001b[0m                       torch.is_floating_point(p)) for p in params\n\u001b[1;32m    121\u001b[0m     )\n\u001b[0;32m--> 122\u001b[0;31m     foreach = not fused and all(\n\u001b[0m\u001b[1;32m    123\u001b[0m         p is None or (type(p) in _foreach_supported_types and\n\u001b[1;32m    124\u001b[0m                       p.device.type in foreach_supported_devices) for p in params\n",
            "\u001b[0;31mKeyboardInterrupt\u001b[0m: "
          ]
        }
      ],
      "metadata": {
        "colab": {
          "base_uri": "https://localhost:8080/",
          "height": 402
        },
        "id": "9_v982Ot_neL",
        "outputId": "b98ffa47-8cae-4708-e976-6051ade384a4"
      }
    },
    {
      "cell_type": "code",
      "source": [
        "torch.save(model.state_dict(),'model.pt')"
      ],
      "metadata": {
        "id": "vHmPh-xXvw8N"
      },
      "execution_count": 137,
      "outputs": []
    },
    {
      "cell_type": "code",
      "source": [
        "print(train_loss_history)\n",
        "print(test_loss_history)"
      ],
      "metadata": {
        "colab": {
          "base_uri": "https://localhost:8080/"
        },
        "id": "9IAgugunHSFk",
        "outputId": "1e70e8e3-2ecb-4513-a360-521268f2f17f"
      },
      "execution_count": 132,
      "outputs": [
        {
          "output_type": "stream",
          "name": "stdout",
          "text": [
            "[]\n",
            "[]\n"
          ]
        }
      ]
    },
    {
      "cell_type": "code",
      "execution_count": 107,
      "source": [
        "fig = plt.figure()\n",
        "plt.plot(range(len(train_loss_history)),train_loss_history,\"-\",linewidth=3,label=\"Train Error\")\n",
        "plt.plot(range(len(test_loss_history)),test_loss_history,\"-\",linewidth=3,label=\"Test Error\")\n",
        "plt.legend()\n",
        "plt.show()"
      ],
      "outputs": [
        {
          "output_type": "display_data",
          "data": {
            "text/plain": [
              "<Figure size 640x480 with 1 Axes>"
            ],
            "image/png": "[encoded data removed]"
          },
          "metadata": {}
        }
      ],
      "metadata": {
        "colab": {
          "base_uri": "https://localhost:8080/",
          "height": 430
        },
        "id": "WDyqXxtxR2h2",
        "outputId": "a9037233-3789-48ee-9d96-f0013d2ded0c"
      }
    },
    {
      "cell_type": "code",
      "execution_count": 61,
      "source": [
        "with torch.no_grad():  # Ensure gradients are not calculated\n",
        "    output = model(new_input)"
      ],
      "outputs": [
        {
          "output_type": "error",
          "ename": "ValueError",
          "evalue": "ignored",
          "traceback": [
            "\u001b[0;31m---------------------------------------------------------------------------\u001b[0m",
            "\u001b[0;31mValueError\u001b[0m                                Traceback (most recent call last)",
            "\u001b[0;32m<ipython-input-61-8d69dd206b2e>\u001b[0m in \u001b[0;36m<cell line: 3>\u001b[0;34m()\u001b[0m\n\u001b[1;32m      2\u001b[0m \u001b[0mall_predicted\u001b[0m \u001b[0;34m=\u001b[0m \u001b[0;34m[\u001b[0m\u001b[0;34m]\u001b[0m\u001b[0;34m\u001b[0m\u001b[0;34m\u001b[0m\u001b[0m\n\u001b[1;32m      3\u001b[0m \u001b[0;32mwith\u001b[0m \u001b[0mtorch\u001b[0m\u001b[0;34m.\u001b[0m\u001b[0mno_grad\u001b[0m\u001b[0;34m(\u001b[0m\u001b[0;34m)\u001b[0m\u001b[0;34m:\u001b[0m\u001b[0;34m\u001b[0m\u001b[0;34m\u001b[0m\u001b[0m\n\u001b[0;32m----> 4\u001b[0;31m     \u001b[0;32mfor\u001b[0m \u001b[0mimages\u001b[0m\u001b[0;34m,\u001b[0m \u001b[0mlabels\u001b[0m \u001b[0;32min\u001b[0m \u001b[0mtest_loader\u001b[0m\u001b[0;34m:\u001b[0m\u001b[0;34m\u001b[0m\u001b[0;34m\u001b[0m\u001b[0m\n\u001b[0m\u001b[1;32m      5\u001b[0m         \u001b[0mimages\u001b[0m \u001b[0;34m=\u001b[0m \u001b[0mimages\u001b[0m\u001b[0;34m.\u001b[0m\u001b[0mto\u001b[0m\u001b[0;34m(\u001b[0m\u001b[0mdevice\u001b[0m\u001b[0;34m)\u001b[0m\u001b[0;34m\u001b[0m\u001b[0;34m\u001b[0m\u001b[0m\n\u001b[1;32m      6\u001b[0m         \u001b[0moutput\u001b[0m \u001b[0;34m=\u001b[0m \u001b[0mmodel\u001b[0m\u001b[0;34m(\u001b[0m\u001b[0mimages\u001b[0m\u001b[0;34m)\u001b[0m\u001b[0;34m\u001b[0m\u001b[0;34m\u001b[0m\u001b[0m\n",
            "\u001b[0;31mValueError\u001b[0m: too many values to unpack (expected 2)"
          ]
        }
      ],
      "metadata": {
        "colab": {
          "base_uri": "https://localhost:8080/",
          "height": 242
        },
        "id": "aC2t65d4TEuc",
        "outputId": "df3e0b45-4005-4fdb-e1eb-bc18ea161d23"
      }
    },
    {
      "cell_type": "code",
      "execution_count": 111,
      "source": [
        "torch.save(model.state_dict(),'model.pt')"
      ],
      "outputs": [],
      "metadata": {
        "id": "VXo0c07PVMxX"
      }
    },
    {
      "cell_type": "code",
      "execution_count": 172,
      "source": [
        "import torch\n",
        "\n",
        "# 2.946297338493151 -4.360614348632136 0.038424728324865494 4.249459785484152 0.04 4.249999999999954\n",
        "\n",
        "# Input values\n",
        "eef_x = 2.946297338493151\n",
        "eef_y = -4.360614348632136\n",
        "q1_current = 0.038424728324865494\n",
        "q2_current = 4.249459785484152\n",
        "\n",
        "# Convert the inputs into tensors and add a batch dimension\n",
        "x = torch.tensor([eef_x,eef_y,q1_current,q2_current]).to(device)\n",
        "\n",
        "# Pass the input through the model\n",
        "model.eval()\n",
        "with torch.no_grad():\n",
        "    output = model(x)\n",
        "\n",
        "print(output)"
      ],
      "outputs": [
        {
          "output_type": "stream",
          "name": "stdout",
          "text": [
            "tensor([3.1145, 3.1279], device='cuda:0')\n"
          ]
        }
      ],
      "metadata": {
        "colab": {
          "base_uri": "https://localhost:8080/"
        },
        "id": "d-ea-S9obHl3",
        "outputId": "43c5c065-50c5-4f51-e4f6-8e7d89aae687"
      }
    },
    {
      "cell_type": "code",
      "source": [
        "pip install onnx\n"
      ],
      "metadata": {
        "id": "jR0rrwg57wyh",
        "outputId": "5328a1c1-1046-45da-f08a-05a439518417",
        "colab": {
          "base_uri": "https://localhost:8080/"
        }
      },
      "execution_count": 144,
      "outputs": [
        {
          "output_type": "stream",
          "name": "stdout",
          "text": [
            "Collecting onnx\n",
            "  Downloading onnx-1.15.0-cp310-cp310-manylinux_2_17_x86_64.manylinux2014_x86_64.whl (15.7 MB)\n",
            "\u001b[2K     \u001b[90m━━━━━━━━━━━━━━━━━━━━━━━━━━━━━━━━━━━━━━━━\u001b[0m \u001b[32m15.7/15.7 MB\u001b[0m \u001b[31m64.0 MB/s\u001b[0m eta \u001b[36m0:00:00\u001b[0m\n",
            "\u001b[?25hRequirement already satisfied: numpy in /usr/local/lib/python3.10/dist-packages (from onnx) (1.23.5)\n",
            "Requirement already satisfied: protobuf>=3.20.2 in /usr/local/lib/python3.10/dist-packages (from onnx) (3.20.3)\n",
            "Installing collected packages: onnx\n",
            "Successfully installed onnx-1.15.0\n"
          ]
        }
      ]
    },
    {
      "cell_type": "code",
      "source": [
        "dummy_input = torch.randn(1, 4).to(device)  # Assuming a batch size of 1 and 4 input features\n",
        "\n",
        "# Export the model to ONNX format\n",
        "torch.onnx.export(model, dummy_input, \"IKModel.onnx\", verbose=True)"
      ],
      "metadata": {
        "id": "GbxB4qzzRMVy"
      },
      "execution_count": 176,
      "outputs": []
    },
    {
      "cell_type": "code",
      "source": [],
      "metadata": {
        "id": "AFMA0VtT7Za3"
      },
      "execution_count": 150,
      "outputs": []
    }
  ],
  "metadata": {
    "accelerator": "GPU",
    "colab": {
      "provenance": [],
      "machine_shape": "hm",
      "gpuType": "V100"
    },
    "kernelspec": {
      "name": "python3",
      "display_name": "Python 3"
    },
    "language_info": {
      "name": "python",
      "version": "3.10.9",
      "mimetype": "text/x-python",
      "codemirror_mode": {
        "name": "ipython",
        "version": 3
      },
      "pygments_lexer": "ipython3",
      "nbconvert_exporter": "python",
      "file_extension": ".py"
    },
    "interpreter": {
      "hash": "1d051fc57616189bbb3568453e7ae6a09b39d30a7544d80b45e2dc7e0ced0be8"
    }
  },
  "nbformat": 4,
  "nbformat_minor": 0
}